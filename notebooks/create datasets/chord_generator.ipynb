{
 "cells": [
  {
   "cell_type": "markdown",
   "metadata": {},
   "source": [
    "# Automated Dataset Generator"
   ]
  },
  {
   "cell_type": "code",
   "execution_count": null,
   "metadata": {},
   "outputs": [],
   "source": [
    "# import library\n",
    "from music_code import music_code\n",
    "\n",
    "# initialize\n",
    "m = music_code.MusicCode(120)"
   ]
  },
  {
   "cell_type": "markdown",
   "metadata": {},
   "source": [
    "### Generate chord samples\n",
    "##### Sample Variations\n",
    "- <b>range</b>: two octaves\n",
    "- <b>chord types:</b> maj triad, min triad, maj 7, min 7, lydian chord, maj 6 9\n",
    "- <b>wave_types:</b>  sine, tri, saw1, square\n",
    "\n"
   ]
  },
  {
   "cell_type": "code",
   "execution_count": null,
   "metadata": {},
   "outputs": [],
   "source": [
    "two_octaves = list(m.freq_note_table_sharp.values())[24:48]\n",
    "chord_qualities = ['maj triad', 'min triad', 'maj 7', 'min 7', 'lydian chord', 'maj 6 9']"
   ]
  },
  {
   "cell_type": "code",
   "execution_count": null,
   "metadata": {},
   "outputs": [],
   "source": [
    "for note in two_octaves:\n",
    "    for quality in chord_qualities:\n",
    "        for waveform_type in ['sine','tri','saw1','square']:\n",
    "            \n",
    "            waveform = m.chord(quality, note, waveform_type, 1)\n",
    "\n",
    "            file_name = str(note + \"_\" + quality + \"_\" + waveform_type + \"_\" +\"chords set.wav\")\n",
    "\n",
    "            waveform.bounce(file_name, show_visual=False)\n",
    "            "
   ]
  }
 ],
 "metadata": {
  "kernelspec": {
   "display_name": "Python 3",
   "language": "python",
   "name": "python3"
  },
  "language_info": {
   "codemirror_mode": {
    "name": "ipython",
    "version": 3
   },
   "file_extension": ".py",
   "mimetype": "text/x-python",
   "name": "python",
   "nbconvert_exporter": "python",
   "pygments_lexer": "ipython3",
   "version": "3.6.10"
  }
 },
 "nbformat": 4,
 "nbformat_minor": 4
}
