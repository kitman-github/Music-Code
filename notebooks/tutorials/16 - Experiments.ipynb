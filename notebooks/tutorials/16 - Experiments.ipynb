{
 "cells": [
  {
   "cell_type": "markdown",
   "metadata": {},
   "source": [
    "# Experiments"
   ]
  },
  {
   "cell_type": "code",
   "execution_count": 1,
   "metadata": {},
   "outputs": [],
   "source": [
    "# import library\n",
    "from music_code import music_code\n",
    "\n",
    "# initialize\n",
    "m = music_code.MusicCode(120)"
   ]
  },
  {
   "cell_type": "code",
   "execution_count": null,
   "metadata": {},
   "outputs": [],
   "source": [
    "# KICK SPEED UP\n",
    "\n",
    "# empty container for wave\n",
    "speed_up = m.rest(1/100)\n",
    "\n",
    "# create speed up pattern by gradually decreasing time_edit duration and joining waves\n",
    "\n",
    "total_kicks = 500\n",
    "\n",
    "for i in range(2,total_kicks):\n",
    "    kick = m.sample('kick','V_RIOT_kick_12.wav').time_edit(1/i)\n",
    "    speed_up = m.join_waves((speed_up, kick))\n",
    "    \n",
    "speed_up.bounce('kick speed up.wav')"
   ]
  },
  {
   "cell_type": "markdown",
   "metadata": {},
   "source": [
    "# Bass"
   ]
  },
  {
   "cell_type": "code",
   "execution_count": null,
   "metadata": {},
   "outputs": [],
   "source": [
    "# rhythm\n",
    "rate = 1/8\n",
    "\n",
    "# ADSR\n",
    "attack = 1/16\n",
    "release = 1/8\n",
    "\n",
    "# create many layers with identical rhythm, duration and ADSR settings\n",
    "E_sine = m.sequence(['E1'], 'sine', rhythm=rate, duration=1/2, fade_in=attack, in_curve=4, fade_out=release, out_curve=3).vol(3)\n",
    "\n",
    "# adjust wt_pos with sine wave to create cool harmonics\n",
    "E_sine_2 = m.sequence(['E3'], 'sine', rhythm=rate, duration=1/2, wt_pos=9999, fade_in=attack, in_curve=4, fade_out=release, out_curve=3).vol(2)\n",
    "E_sine_3 = m.sequence(['B3'], 'sine', rhythm=rate, duration=1/2, wt_pos=77777, fade_in=attack, in_curve=4, fade_out=release, out_curve=3).vol(.9)\n",
    "\n",
    "# fill frequency spectrum\n",
    "E_tri = m.sequence(['E1'], 'tri', rhythm=rate, duration=1/2, fade_in=attack, in_curve=4, fade_out=release, out_curve=3).vol(1.5)\n",
    "E_saw1 = m.sequence(['E2'], 'saw1', rhythm=rate, duration=1/2, fade_in=attack, in_curve=4, fade_out=release, out_curve=3).vol(.4)\n",
    "E_square1 = m.sequence(['E1'], 'square', rhythm=rate, duration=1/2, fade_in=attack, in_curve=4, fade_out=release, out_curve=3).vol(.3)\n",
    "E_square2 = m.sequence(['E2'], 'square', rhythm=rate, duration=1/2, fade_in=attack, in_curve=4, fade_out=release, out_curve=3).vol(.4)\n",
    "\n",
    "# LPF and HPF, keep sub and upper seperate\n",
    "bass_sub = E_sine.LPF(100)\n",
    "bass_upper = m.add_waves((E_tri, E_saw1, E_square1, E_square2, E_sine_2, E_sine_3)).HPF(100)\n",
    "\n",
    "# join waves and push volume beyond 1 for clipping/distortion\n",
    "bass1 = m.add_waves((bass_sub,bass_upper)).vol(2)\n",
    "\n",
    "# WAV audio\n",
    "bass1.bounce()"
   ]
  },
  {
   "cell_type": "code",
   "execution_count": null,
   "metadata": {},
   "outputs": [],
   "source": [
    "# rhythm\n",
    "rate = 1/24\n",
    "\n",
    "# ADSR\n",
    "attack = 1/48\n",
    "release = 1/24\n",
    "\n",
    "# create many layers with identical rhythm, duration and ADSR settings\n",
    "E_sine = m.sequence(['E1'], 'sine', rhythm=rate, duration=1/2, fade_in=attack, in_curve=4, fade_out=release, out_curve=3).vol(3)\n",
    "\n",
    "# adjust wt_pos with sine wave to create cool harmonics\n",
    "E_sine_2 = m.sequence(['E3'], 'sine', rhythm=rate, duration=1/2, wt_pos=99999, fade_in=attack, in_curve=4, fade_out=release, out_curve=3).vol(2)\n",
    "E_sine_3 = m.sequence(['B3'], 'sine', rhythm=rate, duration=1/2, wt_pos=77777, fade_in=attack, in_curve=4, fade_out=release, out_curve=3).vol(.9)\n",
    "\n",
    "# fill frequency spectrum\n",
    "E_tri = m.sequence(['E1'], 'tri', rhythm=rate, duration=1/2, fade_in=attack, in_curve=4, fade_out=release, out_curve=3).vol(1.5)\n",
    "E_saw1 = m.sequence(['E2'], 'saw1', rhythm=rate, duration=1/2, fade_in=attack, in_curve=4, fade_out=release, out_curve=3).vol(.4)\n",
    "E_square1 = m.sequence(['E1'], 'square', rhythm=rate, duration=1/2, fade_in=attack, in_curve=4, fade_out=release, out_curve=3).vol(.3)\n",
    "E_square2 = m.sequence(['E2'], 'square', rhythm=rate, duration=1/2, fade_in=attack, in_curve=4, fade_out=release, out_curve=3).vol(.4)\n",
    "\n",
    "# add all layers into one waveform\n",
    "bass2 = m.add_waves((E_sine, E_tri, E_saw1, E_square1, E_square2, E_sine_2, E_sine_3)).vol(2)\n",
    "\n",
    "# WAV audio\n",
    "bass2.bounce()"
   ]
  },
  {
   "cell_type": "code",
   "execution_count": null,
   "metadata": {},
   "outputs": [],
   "source": [
    "m.chord(\"lydian chord\", \"B3\", 'square', 1).bounce()"
   ]
  },
  {
   "cell_type": "markdown",
   "metadata": {},
   "source": [
    "# Automated Dataset Generator"
   ]
  },
  {
   "cell_type": "code",
   "execution_count": null,
   "metadata": {},
   "outputs": [],
   "source": [
    "two_octaves = list(m.freq_note_table_sharp.values())[24:48]\n",
    "chord_qualities = ['maj triad', 'min triad', 'maj 7', 'min 7', 'lydian chord', 'maj 6 9']"
   ]
  },
  {
   "cell_type": "code",
   "execution_count": null,
   "metadata": {},
   "outputs": [],
   "source": [
    "for note in two_octaves:\n",
    "    for quality in chord_qualities:\n",
    "        for waveform_type in ['sine','tri','saw1','square']:\n",
    "        \n",
    "            waveform = m.chord(quality, note, waveform_type, 1)\n",
    "\n",
    "            file_name = str(note + \"_\" + quality + \"_\" + waveform_type + \"_\" +\"chords set.wav\")\n",
    "\n",
    "            waveform.bounce(file_name, show_visual=False)"
   ]
  }
 ],
 "metadata": {
  "kernelspec": {
   "display_name": "Python 3",
   "language": "python",
   "name": "python3"
  },
  "language_info": {
   "codemirror_mode": {
    "name": "ipython",
    "version": 3
   },
   "file_extension": ".py",
   "mimetype": "text/x-python",
   "name": "python",
   "nbconvert_exporter": "python",
   "pygments_lexer": "ipython3",
   "version": "3.6.10"
  }
 },
 "nbformat": 4,
 "nbformat_minor": 1
}
