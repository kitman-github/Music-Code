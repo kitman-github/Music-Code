{
 "cells": [
  {
   "cell_type": "markdown",
   "metadata": {},
   "source": [
    "# Code Fundamentals"
   ]
  },
  {
   "cell_type": "markdown",
   "metadata": {},
   "source": [
    "Code is a language for creating and building things. This course teaches the fundamentals of coding, music and signal processing. In lesson 1, we will learn the fundamentals of coding with <b>python</b>. In order to use MusiCode effectively in this class, you are required to know basic programming which is outlined in this lesson. For a more extended tutorial on python, you can also check out [Learn Python](https://www.learnpython.org/). \n",
    "##### <b>MusiCode</b> \n",
    "MusiCode is a python library for creating music. It is a digital audio workstation (DAW) controlled with code. You can create musical notes, intervals, chords, progressions, melodies, bass lines, drum beats and full songs!  "
   ]
  },
  {
   "cell_type": "markdown",
   "metadata": {},
   "source": [
    "## Jupyter Notebooks\n",
    "\n",
    "The file we are working in right now is a <b>Jupyter notebook</b> or <b>IPython notebook (.ipynb)</b> in the Microsoft Azure system. This is the primary file type you will be using. Code is split into individual <b>cells</b>. You can add a new cell by clicking the plus sign on the top bar. To run a cell of code, make sure it is selected, then use the hot key shift-enter or click the 'run' button on the top bar of Jupyter. For more information on Jupyter notebooks check out: \n",
    "[Jupyter Notebook Beginner Guide](https://jupyter-notebook-beginner-guide.readthedocs.io/en/latest/what_is_jupyter.html)\n",
    "\n",
    "##### A few helpful tips:\n",
    "1. Start each session by going to the top menu, select kernel -> resart & run all. This will restart the kernal and run every cell of code. \n",
    "2. Save your work consistently by cliicking file - save and checkpoint on the top bar. Or use the save icon on the top menu, directly to the left of the plus sign. \n",
    "3. When you are finished working, save then select file - close and halt.\n",
    "##### Troubleshoot\n",
    "If you are experience issues with your notebook, try restart and run all, or log out and log back into Azure."
   ]
  },
  {
   "cell_type": "code",
   "execution_count": 1,
   "metadata": {},
   "outputs": [],
   "source": [
    "# this is a cell\n",
    "# use a hashtag symbol to create a comment, which does not run as code\n",
    "# comments help other coders understand what your code is doing\n",
    "# using comments to describe what your code is doing is VERY important!\n",
    "\n",
    "x = 1 "
   ]
  },
  {
   "cell_type": "markdown",
   "metadata": {},
   "source": [
    "## Key Terms\n",
    "Before we start coding, it is important for you to know the following definitions:\n",
    "1. <b>variable</b> - named container for data\n",
    "2. <b>data type</b> - defines what operations can be performed on a particular object\n",
    "3. <b>function</b> - a body of code that returns a single value\n",
    "4. <b>object/class</b> - bundle of data and code\n",
    "5. <b>method</b> - a function defined within an object. \n",
    "6. <b>attribute</b> - data stored within an object"
   ]
  },
  {
   "cell_type": "markdown",
   "metadata": {},
   "source": [
    "## Object Oriented Programming\n",
    "What is an object? View lesson here: [powerpoint about objects](https://teams.microsoft.com/l/file/44E58E79-5BB9-4E38-9A55-4C9E27E58891?tenantId=8deb1d4d-d0a4-4d04-89ae-f7076cbaa9fb&fileType=pptx&objectUrl=https%3A%2F%2Fduvalschoolsorg.sharepoint.com%2Fteams%2F3107_DAElectronicMusic%2FClass%20Materials%2FSlides%2FObject%20Oriented%20Programming.pptx&baseUrl=https%3A%2F%2Fduvalschoolsorg.sharepoint.com%2Fteams%2F3107_DAElectronicMusic&serviceName=teams&threadId=19:75e9229479da413eb2846e919cf9e55e@thread.tacv2&groupId=ed3f13a3-741b-42ef-badc-a300efd4a9cb) Let's talk about <b>object oriented programming (OOP)</b>. An understanding of object oriented programming is fundamental to coding. Objects are the building blocks of software. <b>Objects</b> contain data and code (<b>attributes</b> & <b>methods</b>). Objects are sometimes referred to as <b>classes</b>.  Once an object is defined, you can create many different <b>instances</b> of that object. In MusiCode we will create many different instances of the <b>wave object</b>. \n",
    "- <b>Method</b>: a function defined within an object. \n",
    "- <b>Attribute</b>: data stored within an object\n",
    "\n",
    "Below let's look at the two primary objects we will be using:\n",
    "\n",
    "##### Wave object\n",
    "In MusiCode, we are primarily working with <b>wave objects</b>. A wave object is a subclass of the numpy array. The wave object is a 1D (mono) or 2D (stereo) array, designed for signal processing and music making. Every time you create a waveform in MusiCode, it generates a wave object. Then we can use <b>wave methods</b> to modify the waveform. We will see many examples of this concept in the upcoming lessons.\n",
    "\n",
    "##### MusiCode object\n",
    "We use the musicode class to <b>generate</b> waveforms. There are several methods for generating waveforms: create_wave, rest, sequence, chord and arpeggio. all these methods return wave objects. Then we can call wave methods to transform the signal and create many different interesting sounds."
   ]
  },
  {
   "cell_type": "markdown",
   "metadata": {},
   "source": [
    "### Data Types\n",
    "Below we will look at some of the main data types that are built into python."
   ]
  },
  {
   "cell_type": "code",
   "execution_count": 2,
   "metadata": {},
   "outputs": [
    {
     "data": {
      "text/plain": [
       "str"
      ]
     },
     "execution_count": 2,
     "metadata": {},
     "output_type": "execute_result"
    }
   ],
   "source": [
    "# string\n",
    "type(\"hello world!\")"
   ]
  },
  {
   "cell_type": "code",
   "execution_count": 24,
   "metadata": {},
   "outputs": [
    {
     "data": {
      "text/plain": [
       "int"
      ]
     },
     "execution_count": 24,
     "metadata": {},
     "output_type": "execute_result"
    }
   ],
   "source": [
    "# integer / whole number\n",
    "type(10)"
   ]
  },
  {
   "cell_type": "code",
   "execution_count": 4,
   "metadata": {},
   "outputs": [
    {
     "data": {
      "text/plain": [
       "float"
      ]
     },
     "execution_count": 4,
     "metadata": {},
     "output_type": "execute_result"
    }
   ],
   "source": [
    "# integer / decimal\n",
    "type(1.753)"
   ]
  },
  {
   "cell_type": "code",
   "execution_count": 25,
   "metadata": {},
   "outputs": [
    {
     "data": {
      "text/plain": [
       "1"
      ]
     },
     "execution_count": 25,
     "metadata": {},
     "output_type": "execute_result"
    }
   ],
   "source": [
    "# list\n",
    "my_list = [1, 2, 3, 4, 5]\n",
    "type(my_list)\n",
    "\n",
    "my_list[0]"
   ]
  },
  {
   "cell_type": "markdown",
   "metadata": {},
   "source": [
    "### Variables\n",
    "A <b>variable</b> is a named container for data. Using variables, we can store many different values and refer to them by name in our code. Here are a few examples."
   ]
  },
  {
   "cell_type": "code",
   "execution_count": 6,
   "metadata": {},
   "outputs": [
    {
     "name": "stdout",
     "output_type": "stream",
     "text": [
      "1\n"
     ]
    }
   ],
   "source": [
    "x = 1\n",
    "\n",
    "print(x)"
   ]
  },
  {
   "cell_type": "code",
   "execution_count": 7,
   "metadata": {},
   "outputs": [
    {
     "name": "stdout",
     "output_type": "stream",
     "text": [
      "Wesley\n"
     ]
    }
   ],
   "source": [
    "name = 'Wesley'\n",
    "\n",
    "print(name)"
   ]
  },
  {
   "cell_type": "code",
   "execution_count": 8,
   "metadata": {},
   "outputs": [
    {
     "name": "stdout",
     "output_type": "stream",
     "text": [
      "['Wesley', 'Josh', 'Jarred']\n"
     ]
    }
   ],
   "source": [
    "# list of strings\n",
    "names = ['Wesley', 'Josh', 'Jarred']\n",
    "\n",
    "print(names)"
   ]
  },
  {
   "cell_type": "markdown",
   "metadata": {},
   "source": [
    "### Functions"
   ]
  },
  {
   "cell_type": "markdown",
   "metadata": {},
   "source": [
    "#### Example 1 - Greeting"
   ]
  },
  {
   "cell_type": "code",
   "execution_count": 9,
   "metadata": {},
   "outputs": [],
   "source": [
    "# define function named greet_user\n",
    "# input: name\n",
    "# output: greeting\n",
    "\n",
    "def greet_user(name):\n",
    "    \n",
    "    greeting = 'Hello ' + name +'!'\n",
    "    \n",
    "    return greeting "
   ]
  },
  {
   "cell_type": "markdown",
   "metadata": {},
   "source": [
    "There are a few ways we can use a function once it has been defined. Lets see an example of each way:"
   ]
  },
  {
   "cell_type": "markdown",
   "metadata": {},
   "source": [
    "##### 1"
   ]
  },
  {
   "cell_type": "code",
   "execution_count": 10,
   "metadata": {},
   "outputs": [
    {
     "data": {
      "text/plain": [
       "'Hello Wesley!'"
      ]
     },
     "execution_count": 10,
     "metadata": {},
     "output_type": "execute_result"
    }
   ],
   "source": [
    "# define variable\n",
    "name = 'Wesley'\n",
    "\n",
    "# call function and insert name variable as input\n",
    "greet_user(name)"
   ]
  },
  {
   "cell_type": "markdown",
   "metadata": {},
   "source": [
    "##### 2"
   ]
  },
  {
   "cell_type": "code",
   "execution_count": 11,
   "metadata": {},
   "outputs": [
    {
     "data": {
      "text/plain": [
       "'Hello Wesley!'"
      ]
     },
     "execution_count": 11,
     "metadata": {},
     "output_type": "execute_result"
    }
   ],
   "source": [
    "# call function and insert name\n",
    "greet_user(name='Wesley')"
   ]
  },
  {
   "cell_type": "markdown",
   "metadata": {},
   "source": [
    "##### 3"
   ]
  },
  {
   "cell_type": "code",
   "execution_count": 12,
   "metadata": {},
   "outputs": [
    {
     "data": {
      "text/plain": [
       "'Hello Wesley!'"
      ]
     },
     "execution_count": 12,
     "metadata": {},
     "output_type": "execute_result"
    }
   ],
   "source": [
    "# call function and insert name, no label\n",
    "greet_user('Wesley')"
   ]
  },
  {
   "cell_type": "markdown",
   "metadata": {},
   "source": [
    "#### Example 2 - Straight Line"
   ]
  },
  {
   "cell_type": "code",
   "execution_count": 13,
   "metadata": {},
   "outputs": [],
   "source": [
    "# define function named f. this is the equation for a straight line: y=mx+b\n",
    "# input: x, m, b \n",
    "# output: y value\n",
    "\n",
    "def f(x, m, b):\n",
    "    \n",
    "    # equation\n",
    "    y = m*x+b\n",
    "    \n",
    "    # output\n",
    "    return y"
   ]
  },
  {
   "cell_type": "code",
   "execution_count": 14,
   "metadata": {},
   "outputs": [],
   "source": [
    "# define variables\n",
    "x = 1\n",
    "m = 1/8\n",
    "b = 4\n",
    "\n",
    "# call function\n",
    "y = f(x, m, b)"
   ]
  },
  {
   "cell_type": "markdown",
   "metadata": {},
   "source": [
    "### Loops\n",
    "Loops allow you to apply an operation to every item in a list. Here is an example:"
   ]
  },
  {
   "cell_type": "markdown",
   "metadata": {},
   "source": [
    "##### for loops"
   ]
  },
  {
   "cell_type": "code",
   "execution_count": 15,
   "metadata": {},
   "outputs": [
    {
     "name": "stdout",
     "output_type": "stream",
     "text": [
      "Wesley\n",
      "Josh\n",
      "Jarred\n"
     ]
    }
   ],
   "source": [
    "# create list of string values\n",
    "names = ['Wesley', 'Josh', 'Jarred']\n",
    "\n",
    "# print each name in list\n",
    "for name in names:\n",
    "    print(name)"
   ]
  },
  {
   "cell_type": "code",
   "execution_count": 16,
   "metadata": {},
   "outputs": [
    {
     "name": "stdout",
     "output_type": "stream",
     "text": [
      "101\n",
      "103\n",
      "105\n",
      "107\n",
      "109\n"
     ]
    }
   ],
   "source": [
    "# create list of intgers\n",
    "numbers = [1,3,5,7,9]\n",
    "\n",
    "# add 100 to each value in list\n",
    "for number in numbers:\n",
    "    new_value = number+100\n",
    "    print(new_value)"
   ]
  },
  {
   "cell_type": "markdown",
   "metadata": {},
   "source": [
    "##### while loops"
   ]
  },
  {
   "cell_type": "code",
   "execution_count": 17,
   "metadata": {},
   "outputs": [
    {
     "name": "stdout",
     "output_type": "stream",
     "text": [
      "1\n",
      "2\n",
      "3\n",
      "4\n",
      "5\n"
     ]
    }
   ],
   "source": [
    "# iteration\n",
    "i = 0\n",
    "\n",
    "# while this condition is true, loop\n",
    "while i < 5:\n",
    "\n",
    "    # increment\n",
    "    i = i + 1\n",
    "    \n",
    "    # display result\n",
    "    print(i)"
   ]
  },
  {
   "cell_type": "markdown",
   "metadata": {},
   "source": [
    "# Practice Problems"
   ]
  },
  {
   "cell_type": "markdown",
   "metadata": {},
   "source": [
    "### 1)\n",
    "Create a list of string values naming your top 3 favorite genres of music. Then use a for loop to print all the values."
   ]
  },
  {
   "cell_type": "code",
   "execution_count": 18,
   "metadata": {},
   "outputs": [],
   "source": [
    "# problem 1 code goes here\n"
   ]
  },
  {
   "cell_type": "markdown",
   "metadata": {},
   "source": [
    "### 2)\n",
    "Write code to calcuate: square root of 808. Search Google and figure out how to take the square root of a number in python. Stack overflow and python.org are good resources. "
   ]
  },
  {
   "cell_type": "code",
   "execution_count": 19,
   "metadata": {},
   "outputs": [],
   "source": [
    "# problem 2 answer goes here\n"
   ]
  },
  {
   "cell_type": "markdown",
   "metadata": {},
   "source": [
    "### 3)\n",
    "Define a function named add_nums that takes in two inputs, x and y, then returns the sum. Then use the function you build to sum the following numbers: 1731, 8332"
   ]
  },
  {
   "cell_type": "code",
   "execution_count": 20,
   "metadata": {},
   "outputs": [],
   "source": [
    "# problem 3 code goes here\n"
   ]
  }
 ],
 "metadata": {
  "kernelspec": {
   "display_name": "Python 3",
   "language": "python",
   "name": "python3"
  },
  "language_info": {
   "codemirror_mode": {
    "name": "ipython",
    "version": 3
   },
   "file_extension": ".py",
   "mimetype": "text/x-python",
   "name": "python",
   "nbconvert_exporter": "python",
   "pygments_lexer": "ipython3",
   "version": "3.6.10"
  }
 },
 "nbformat": 4,
 "nbformat_minor": 4
}
