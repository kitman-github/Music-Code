{
 "cells": [
  {
   "cell_type": "code",
   "execution_count": 1,
   "metadata": {},
   "outputs": [],
   "source": [
    "# add musiccode scripts folder to path\n",
    "import sys\n",
    "\n",
    "import numpy as np\n",
    "import matplotlib.pyplot as plt\n",
    "import soundfile as sf\n",
    "from scipy import signal\n",
    "import os\n",
    "from os import listdir\n",
    "from os.path import isfile, join\n",
    "%matplotlib inline\n",
    "\n",
    "# import library\n",
    "from music_code import music_code\n",
    "\n",
    "# initialize\n",
    "m = music_code.MusicCode(120)"
   ]
  },
  {
   "cell_type": "markdown",
   "metadata": {},
   "source": [
    "### Generate video frames"
   ]
  },
  {
   "cell_type": "code",
   "execution_count": null,
   "metadata": {},
   "outputs": [],
   "source": [
    "#### Parameters\n",
    "#volume = np.flip(np.linspace(1,10,10))\n",
    "\n",
    "# Loop and plot all waveform variations\n",
    "master_waveform = np.zeros(1)\n",
    "\n",
    "iteration_num = 1\n",
    "\n",
    "notevalues = list(m.freq_note_table_sharp.values())\n",
    "freqvalues = np.arange(5,5000,25).astype(float)\n",
    "fade_size = np.linspace(.031250, .0078125, len(notevalues))\n",
    "\n",
    "wavetable_position=1\n",
    "for note in notevalues:\n",
    "    file_name = str(iteration_num)+'.png'\n",
    "    # set up plots\n",
    "    fig = plt.figure(dpi=1200)\n",
    "    #fig.set_size_inches(5,5)\n",
    "    ax = fig.add_axes([0.1,0.1,0.8,0.8])\n",
    "    fig.patch.set_visible(False)\n",
    "    ax.axis('off')\n",
    "\n",
    "    # create waveform\n",
    "    waveform = m.create_wave([note],'square',.03125,wt_pos=1).fade(fade_in=.03125, fade_out=.03125)\n",
    "\n",
    "    # plot on axis\n",
    "    ax.plot(waveform)\n",
    "    plt.close()\n",
    "\n",
    "    # export hd image             \n",
    "    png_file_path = \"C:\\\\Users\\\\wesle\\\\Desktop\\\\repository\\\\music-code-master\\\\Program Files\\\\images\\\\\"+str(file_name)\n",
    "    fig.savefig(png_file_path,transparent=True)\n",
    "    with open(png_file_path, 'w') as outfile:\n",
    "        fig.canvas.print_png(png_file_path)\n",
    "\n",
    "    iteration_num+=1\n",
    "    wavetable_position+=2"
   ]
  }
 ],
 "metadata": {
  "kernelspec": {
   "display_name": "Python 3",
   "language": "python",
   "name": "python3"
  },
  "language_info": {
   "codemirror_mode": {
    "name": "ipython",
    "version": 3
   },
   "file_extension": ".py",
   "mimetype": "text/x-python",
   "name": "python",
   "nbconvert_exporter": "python",
   "pygments_lexer": "ipython3",
   "version": "3.6.10"
  }
 },
 "nbformat": 4,
 "nbformat_minor": 4
}
