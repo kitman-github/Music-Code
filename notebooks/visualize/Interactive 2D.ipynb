{
 "cells": [
  {
   "cell_type": "markdown",
   "metadata": {},
   "source": [
    "# Interactive Wave Plot"
   ]
  },
  {
   "cell_type": "code",
   "execution_count": 3,
   "metadata": {},
   "outputs": [],
   "source": [
    "# add musiccode scripts folder to path\n",
    "\n",
    "import numpy as np\n",
    "import matplotlib as mpl\n",
    "import matplotlib.pyplot as plt\n",
    "from ipywidgets import interact, interactive, fixed, interact_manual\n",
    "import ipywidgets as widgets\n",
    "%matplotlib inline\n",
    "\n",
    "# plot settings\n",
    "plt.rcParams['figure.figsize'] = (6,4)\n",
    "plt.rcParams['figure.dpi'] = 150\n",
    "\n",
    "# import library\n",
    "from music_code import music_code\n",
    "\n",
    "# initialize\n",
    "m = music_code.MusicCode(120)"
   ]
  },
  {
   "cell_type": "markdown",
   "metadata": {},
   "source": [
    "### Animate Wave"
   ]
  },
  {
   "cell_type": "code",
   "execution_count": 4,
   "metadata": {},
   "outputs": [
    {
     "data": {
      "application/vnd.jupyter.widget-view+json": {
       "model_id": "f884a7cfe08d4de6910a2b75623d90f2",
       "version_major": 2,
       "version_minor": 0
      },
      "text/plain": [
       "interactive(children=(IntSlider(value=485, description='f', max=1000, min=35, step=50), IntSlider(value=4, des…"
      ]
     },
     "metadata": {},
     "output_type": "display_data"
    },
    {
     "data": {
      "text/plain": [
       "<function __main__.animate_wave(f, v, w, c)>"
      ]
     },
     "execution_count": 4,
     "metadata": {},
     "output_type": "execute_result"
    }
   ],
   "source": [
    "def animate_wave(f, v, w, c):\n",
    "    \"\"\"\n",
    "    Wave Animation\n",
    "\n",
    "    Inputs\n",
    "    f: frequency\n",
    "    v: volume\n",
    "    w: wavetable position\n",
    "    c: fade_length\n",
    "\n",
    "    \"\"\" \n",
    "    plt.plot(m.create_wave([f],'sine',1/32, wt_pos=w).fade(fade_in=c,fade_out=c)*v)\n",
    "    plt.ylim(-4,4)\n",
    "    \n",
    "# define value range for each parameter (min, max, interval)\n",
    "vol_range = (1,8,1)\n",
    "freq_range = (35,1000,50) \n",
    "wt_range = (1,333,32)\n",
    "fade_range = (1/1024,1/48,1/512)\n",
    "\n",
    "# call function and create interactive plot\n",
    "interact(animate_wave, f=freq_range, v=vol_range, w=wt_range, c=fade_range)"
   ]
  },
  {
   "cell_type": "code",
   "execution_count": null,
   "metadata": {},
   "outputs": [],
   "source": []
  }
 ],
 "metadata": {
  "kernelspec": {
   "display_name": "Python 3",
   "language": "python",
   "name": "python3"
  },
  "language_info": {
   "codemirror_mode": {
    "name": "ipython",
    "version": 3
   },
   "file_extension": ".py",
   "mimetype": "text/x-python",
   "name": "python",
   "nbconvert_exporter": "python",
   "pygments_lexer": "ipython3",
   "version": "3.6.10"
  }
 },
 "nbformat": 4,
 "nbformat_minor": 4
}
